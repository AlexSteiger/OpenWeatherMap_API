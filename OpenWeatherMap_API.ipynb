{
 "cells": [
  {
   "cell_type": "code",
   "execution_count": 41,
   "metadata": {},
   "outputs": [
    {
     "name": "stdout",
     "output_type": "stream",
     "text": [
      "https://api.openweathermap.org/data/2.5/onecall?appid=65d4508050d5008b768b660a688651ad&lat=40.137442&lon=28.383499&exclude=minutely,hourly,alerts\n",
      "{\"lat\":40.1374,\"lon\":28.3835,\"timezone\":\"Europe/Istanbul\",\"timezone_offset\":10800,\"current\":{\"dt\":1649323352,\"sunrise\":1649302862,\"sunset\":1649349352,\"temp\":289.34,\"feels_like\":288.48,\"pressure\":1005,\"humidity\":56,\"dew_point\":280.56,\"uvi\":3.5,\"clouds\":100,\"visibility\":10000,\"wind_speed\":5.03,\"wind_deg\":196,\"wind_gust\":13.69,\"weather\":[{\"id\":804,\"main\":\"Clouds\",\"description\":\"overcast clouds\",\"icon\":\"04d\"}]},\"daily\":[{\"dt\":1649325600,\"sunrise\":1649302862,\"sunset\":1649349352,\"moonrise\":1649315280,\"moonset\":1649282520,\"moon_phase\":0.19,\"temp\":{\"day\":290.3,\"min\":281.64,\"max\":293.46,\"night\":286.02,\"eve\":288.72,\"morn\":283.04},\"feels_like\":{\"day\":289.51,\"night\":285.61,\"eve\":288.58,\"morn\":282.49},\"pressure\":1005,\"humidity\":55,\"dew_point\":281.19,\"wind_speed\":8.43,\"wind_deg\":215,\"wind_gust\":18.71,\"weather\":[{\"id\":502,\"main\":\"Rain\",\"description\":\"heavy intensity rain\",\"icon\":\"10d\"}],\"clouds\":100,\"pop\":1,\"rain\":7,\"uvi\":3.5},{\"dt\":1649412000,\"sunrise\":1649389167,\"sunset\":1649435813,\"moonrise\":1649404560,\"moonset\":1649372280,\"moon_phase\":0.22,\"temp\":{\"day\":292.86,\"min\":284.19,\"max\":293.64,\"night\":286.63,\"eve\":290.72,\"morn\":284.43},\"feels_like\":{\"day\":292.19,\"night\":285.86,\"eve\":290.18,\"morn\":284.07},\"pressure\":1009,\"humidity\":50,\"dew_point\":281.48,\"wind_speed\":3.36,\"wind_deg\":324,\"wind_gust\":4.2,\"weather\":[{\"id\":500,\"main\":\"Rain\",\"description\":\"light rain\",\"icon\":\"10d\"}],\"clouds\":34,\"pop\":0.97,\"rain\":3.85,\"uvi\":5.91},{\"dt\":1649498400,\"sunrise\":1649475473,\"sunset\":1649522274,\"moonrise\":1649494200,\"moonset\":1649461680,\"moon_phase\":0.25,\"temp\":{\"day\":297.13,\"min\":284.59,\"max\":298.72,\"night\":287.95,\"eve\":292.91,\"morn\":284.59},\"feels_like\":{\"day\":296.63,\"night\":287.31,\"eve\":292.51,\"morn\":283.85},\"pressure\":1008,\"humidity\":40,\"dew_point\":282.26,\"wind_speed\":3.69,\"wind_deg\":229,\"wind_gust\":6.39,\"weather\":[{\"id\":800,\"main\":\"Clear\",\"description\":\"clear sky\",\"icon\":\"01d\"}],\"clouds\":0,\"pop\":0,\"uvi\":6.17},{\"dt\":1649584800,\"sunrise\":1649561779,\"sunset\":1649608735,\"moonrise\":1649584140,\"moonset\":1649550720,\"moon_phase\":0.28,\"temp\":{\"day\":295.51,\"min\":285.33,\"max\":297.05,\"night\":289.55,\"eve\":295.57,\"morn\":285.33},\"feels_like\":{\"day\":294.92,\"night\":288.68,\"eve\":295.12,\"morn\":284.82},\"pressure\":1006,\"humidity\":43,\"dew_point\":281.99,\"wind_speed\":6.98,\"wind_deg\":218,\"wind_gust\":9.4,\"weather\":[{\"id\":801,\"main\":\"Clouds\",\"description\":\"few clouds\",\"icon\":\"02d\"}],\"clouds\":16,\"pop\":0,\"uvi\":6.26},{\"dt\":1649671200,\"sunrise\":1649648086,\"sunset\":1649695196,\"moonrise\":1649674320,\"moonset\":1649639340,\"moon_phase\":0.31,\"temp\":{\"day\":280.44,\"min\":279.86,\"max\":288.34,\"night\":279.97,\"eve\":280.25,\"morn\":282.74},\"feels_like\":{\"day\":278.14,\"night\":278.8,\"eve\":278.6,\"morn\":280.86},\"pressure\":1010,\"humidity\":92,\"dew_point\":278.64,\"wind_speed\":3.56,\"wind_deg\":314,\"wind_gust\":6.87,\"weather\":[{\"id\":501,\"main\":\"Rain\",\"description\":\"moderate rain\",\"icon\":\"10d\"}],\"clouds\":100,\"pop\":1,\"rain\":16.88,\"uvi\":1.48},{\"dt\":1649757600,\"sunrise\":1649734393,\"sunset\":1649781657,\"moonrise\":1649764620,\"moonset\":1649727660,\"moon_phase\":0.35,\"temp\":{\"day\":284.83,\"min\":279.59,\"max\":286.06,\"night\":280.59,\"eve\":285.61,\"morn\":279.59},\"feels_like\":{\"day\":283.39,\"night\":280.03,\"eve\":284.06,\"morn\":278.49},\"pressure\":1019,\"humidity\":51,\"dew_point\":274.54,\"wind_speed\":4.81,\"wind_deg\":324,\"wind_gust\":5.63,\"weather\":[{\"id\":500,\"main\":\"Rain\",\"description\":\"light rain\",\"icon\":\"10d\"}],\"clouds\":32,\"pop\":0.83,\"rain\":2.75,\"uvi\":2},{\"dt\":1649844000,\"sunrise\":1649820701,\"sunset\":1649868118,\"moonrise\":1649854980,\"moonset\":1649815740,\"moon_phase\":0.38,\"temp\":{\"day\":286.38,\"min\":278.4,\"max\":287.65,\"night\":281.11,\"eve\":286.53,\"morn\":278.4},\"feels_like\":{\"day\":284.96,\"night\":281.11,\"eve\":284.99,\"morn\":277.33},\"pressure\":1021,\"humidity\":46,\"dew_point\":274.32,\"wind_speed\":3.09,\"wind_deg\":326,\"wind_gust\":3.31,\"weather\":[{\"id\":800,\"main\":\"Clear\",\"description\":\"clear sky\",\"icon\":\"01d\"}],\"clouds\":1,\"pop\":0.07,\"uvi\":2},{\"dt\":1649930400,\"sunrise\":1649907010,\"sunset\":1649954579,\"moonrise\":1649945460,\"moonset\":1649903700,\"moon_phase\":0.41,\"temp\":{\"day\":288.53,\"min\":278.23,\"max\":289.83,\"night\":281.57,\"eve\":287.71,\"morn\":278.23},\"feels_like\":{\"day\":287.12,\"night\":280.2,\"eve\":286.37,\"morn\":278.23},\"pressure\":1020,\"humidity\":38,\"dew_point\":273.89,\"wind_speed\":3.62,\"wind_deg\":7,\"wind_gust\":4.31,\"weather\":[{\"id\":800,\"main\":\"Clear\",\"description\":\"clear sky\",\"icon\":\"01d\"}],\"clouds\":0,\"pop\":0,\"uvi\":2}]}\n",
      "<class 'dict'>\n"
     ]
    }
   ],
   "source": [
    "# Python program to find current\n",
    "# weather details of any city\n",
    "# using openweathermap api\n",
    " \n",
    "# import required modules\n",
    "import requests, json\n",
    "import pandas as pd\n",
    " \n",
    "# curl query:\n",
    "# curl \"https://api.openweathermap.org/data/2.5/onecall?lat=51.509865&lon=-0.118092&exclude=minutely,hourly,alerts&appid=65d4508050d5008b768b660a688651ad\" | python -mjson.tool\n",
    "# Turkey Fields: 40.137442, 28.383499\n",
    "    \n",
    "# Enter your API key here\n",
    "api_key = \"65d4508050d5008b768b660a688651ad\"\n",
    " \n",
    "# base_url variable to store url\n",
    "base_url = \"https://api.openweathermap.org/data/2.5/onecall?\"\n",
    " \n",
    "# Give city name\n",
    "#Turkey Fields:\n",
    "lat = \"40.137442\"\n",
    "lon = \"28.383499\"\n",
    "#Kassow:\n",
    "#lat = \"53.881579\"\n",
    "#lon = \"12.072763\"\n",
    "\n",
    "\n",
    "# complete_url variable to store\n",
    "# complete url address\n",
    "complete_url = base_url + \"appid=\" + api_key + \"&lat=\" + lat + \"&lon=\" + lon + \"&exclude=minutely,hourly,alerts\"\n",
    "print(complete_url) \n",
    "    \n",
    "# get method of requests module\n",
    "# return response object\n",
    "response = requests.get(complete_url)\n",
    " \n",
    "print(response.text)\n",
    "\n",
    "theJSON = response.text\n",
    "\n",
    "#theJSON = \"{\\\"data\\\": [\" + response.text.replace(\"\\n\\n\", \",\")[:-1] + \"]}\";\n",
    "#print(theJSON)\n",
    "\n",
    "# json method of response object\n",
    "# convert json format data into\n",
    "# python format data\n",
    "x = response.json()\n",
    "#print(type(theJSON))\n",
    "print(type(x))\n",
    "#print(json.dumps(theJSON, sort_keys=True, indent=4))"
   ]
  },
  {
   "cell_type": "code",
   "execution_count": 35,
   "metadata": {},
   "outputs": [
    {
     "ename": "ValueError",
     "evalue": "Unexpected character found when decoding object value",
     "output_type": "error",
     "traceback": [
      "\u001b[0;31m---------------------------------------------------------------------------\u001b[0m",
      "\u001b[0;31mValueError\u001b[0m                                Traceback (most recent call last)",
      "\u001b[0;32m<ipython-input-35-c3c0d2b1ee27>\u001b[0m in \u001b[0;36m<module>\u001b[0;34m()\u001b[0m\n\u001b[1;32m      1\u001b[0m \u001b[0;31m#df = pd.read_json('TTNresponse.json')\u001b[0m\u001b[0;34m\u001b[0m\u001b[0;34m\u001b[0m\u001b[0;34m\u001b[0m\u001b[0m\n\u001b[0;32m----> 2\u001b[0;31m \u001b[0mdf\u001b[0m \u001b[0;34m=\u001b[0m \u001b[0mpd\u001b[0m\u001b[0;34m.\u001b[0m\u001b[0mread_json\u001b[0m\u001b[0;34m(\u001b[0m\u001b[0mtheJSON\u001b[0m\u001b[0;34m)\u001b[0m\u001b[0;34m\u001b[0m\u001b[0;34m\u001b[0m\u001b[0m\n\u001b[0m\u001b[1;32m      3\u001b[0m \u001b[0;34m\u001b[0m\u001b[0m\n\u001b[1;32m      4\u001b[0m \u001b[0;31m# solution from https://stackoverflow.com/questions/45325208/python-json-normalize-a-pandas-series-gives-typeerror\u001b[0m\u001b[0;34m\u001b[0m\u001b[0;34m\u001b[0m\u001b[0;34m\u001b[0m\u001b[0m\n\u001b[1;32m      5\u001b[0m \u001b[0;31m#normalized_df = pd.concat([pd.DataFrame(pd.json_normalize(x)) for x in df['data']],ignore_index=True)\u001b[0m\u001b[0;34m\u001b[0m\u001b[0;34m\u001b[0m\u001b[0;34m\u001b[0m\u001b[0m\n",
      "\u001b[0;32m/home/alex-laptop/.local/lib/python3.6/site-packages/pandas/util/_decorators.py\u001b[0m in \u001b[0;36mwrapper\u001b[0;34m(*args, **kwargs)\u001b[0m\n\u001b[1;32m    197\u001b[0m                 \u001b[0;32melse\u001b[0m\u001b[0;34m:\u001b[0m\u001b[0;34m\u001b[0m\u001b[0;34m\u001b[0m\u001b[0m\n\u001b[1;32m    198\u001b[0m                     \u001b[0mkwargs\u001b[0m\u001b[0;34m[\u001b[0m\u001b[0mnew_arg_name\u001b[0m\u001b[0;34m]\u001b[0m \u001b[0;34m=\u001b[0m \u001b[0mnew_arg_value\u001b[0m\u001b[0;34m\u001b[0m\u001b[0;34m\u001b[0m\u001b[0m\n\u001b[0;32m--> 199\u001b[0;31m             \u001b[0;32mreturn\u001b[0m \u001b[0mfunc\u001b[0m\u001b[0;34m(\u001b[0m\u001b[0;34m*\u001b[0m\u001b[0margs\u001b[0m\u001b[0;34m,\u001b[0m \u001b[0;34m**\u001b[0m\u001b[0mkwargs\u001b[0m\u001b[0;34m)\u001b[0m\u001b[0;34m\u001b[0m\u001b[0;34m\u001b[0m\u001b[0m\n\u001b[0m\u001b[1;32m    200\u001b[0m \u001b[0;34m\u001b[0m\u001b[0m\n\u001b[1;32m    201\u001b[0m         \u001b[0;32mreturn\u001b[0m \u001b[0mcast\u001b[0m\u001b[0;34m(\u001b[0m\u001b[0mF\u001b[0m\u001b[0;34m,\u001b[0m \u001b[0mwrapper\u001b[0m\u001b[0;34m)\u001b[0m\u001b[0;34m\u001b[0m\u001b[0;34m\u001b[0m\u001b[0m\n",
      "\u001b[0;32m/home/alex-laptop/.local/lib/python3.6/site-packages/pandas/util/_decorators.py\u001b[0m in \u001b[0;36mwrapper\u001b[0;34m(*args, **kwargs)\u001b[0m\n\u001b[1;32m    294\u001b[0m                 )\n\u001b[1;32m    295\u001b[0m                 \u001b[0mwarnings\u001b[0m\u001b[0;34m.\u001b[0m\u001b[0mwarn\u001b[0m\u001b[0;34m(\u001b[0m\u001b[0mmsg\u001b[0m\u001b[0;34m,\u001b[0m \u001b[0mFutureWarning\u001b[0m\u001b[0;34m,\u001b[0m \u001b[0mstacklevel\u001b[0m\u001b[0;34m=\u001b[0m\u001b[0mstacklevel\u001b[0m\u001b[0;34m)\u001b[0m\u001b[0;34m\u001b[0m\u001b[0;34m\u001b[0m\u001b[0m\n\u001b[0;32m--> 296\u001b[0;31m             \u001b[0;32mreturn\u001b[0m \u001b[0mfunc\u001b[0m\u001b[0;34m(\u001b[0m\u001b[0;34m*\u001b[0m\u001b[0margs\u001b[0m\u001b[0;34m,\u001b[0m \u001b[0;34m**\u001b[0m\u001b[0mkwargs\u001b[0m\u001b[0;34m)\u001b[0m\u001b[0;34m\u001b[0m\u001b[0;34m\u001b[0m\u001b[0m\n\u001b[0m\u001b[1;32m    297\u001b[0m \u001b[0;34m\u001b[0m\u001b[0m\n\u001b[1;32m    298\u001b[0m         \u001b[0;32mreturn\u001b[0m \u001b[0mwrapper\u001b[0m\u001b[0;34m\u001b[0m\u001b[0;34m\u001b[0m\u001b[0m\n",
      "\u001b[0;32m/home/alex-laptop/.local/lib/python3.6/site-packages/pandas/io/json/_json.py\u001b[0m in \u001b[0;36mread_json\u001b[0;34m(path_or_buf, orient, typ, dtype, convert_axes, convert_dates, keep_default_dates, numpy, precise_float, date_unit, encoding, lines, chunksize, compression, nrows)\u001b[0m\n\u001b[1;32m    616\u001b[0m         \u001b[0;32mreturn\u001b[0m \u001b[0mjson_reader\u001b[0m\u001b[0;34m\u001b[0m\u001b[0;34m\u001b[0m\u001b[0m\n\u001b[1;32m    617\u001b[0m \u001b[0;34m\u001b[0m\u001b[0m\n\u001b[0;32m--> 618\u001b[0;31m     \u001b[0mresult\u001b[0m \u001b[0;34m=\u001b[0m \u001b[0mjson_reader\u001b[0m\u001b[0;34m.\u001b[0m\u001b[0mread\u001b[0m\u001b[0;34m(\u001b[0m\u001b[0;34m)\u001b[0m\u001b[0;34m\u001b[0m\u001b[0;34m\u001b[0m\u001b[0m\n\u001b[0m\u001b[1;32m    619\u001b[0m     \u001b[0;32mif\u001b[0m \u001b[0mshould_close\u001b[0m\u001b[0;34m:\u001b[0m\u001b[0;34m\u001b[0m\u001b[0;34m\u001b[0m\u001b[0m\n\u001b[1;32m    620\u001b[0m         \u001b[0mfilepath_or_buffer\u001b[0m\u001b[0;34m.\u001b[0m\u001b[0mclose\u001b[0m\u001b[0;34m(\u001b[0m\u001b[0;34m)\u001b[0m\u001b[0;34m\u001b[0m\u001b[0;34m\u001b[0m\u001b[0m\n",
      "\u001b[0;32m/home/alex-laptop/.local/lib/python3.6/site-packages/pandas/io/json/_json.py\u001b[0m in \u001b[0;36mread\u001b[0;34m(self)\u001b[0m\n\u001b[1;32m    753\u001b[0m                 \u001b[0mobj\u001b[0m \u001b[0;34m=\u001b[0m \u001b[0mself\u001b[0m\u001b[0;34m.\u001b[0m\u001b[0m_get_object_parser\u001b[0m\u001b[0;34m(\u001b[0m\u001b[0mself\u001b[0m\u001b[0;34m.\u001b[0m\u001b[0m_combine_lines\u001b[0m\u001b[0;34m(\u001b[0m\u001b[0mdata\u001b[0m\u001b[0;34m)\u001b[0m\u001b[0;34m)\u001b[0m\u001b[0;34m\u001b[0m\u001b[0;34m\u001b[0m\u001b[0m\n\u001b[1;32m    754\u001b[0m         \u001b[0;32melse\u001b[0m\u001b[0;34m:\u001b[0m\u001b[0;34m\u001b[0m\u001b[0;34m\u001b[0m\u001b[0m\n\u001b[0;32m--> 755\u001b[0;31m             \u001b[0mobj\u001b[0m \u001b[0;34m=\u001b[0m \u001b[0mself\u001b[0m\u001b[0;34m.\u001b[0m\u001b[0m_get_object_parser\u001b[0m\u001b[0;34m(\u001b[0m\u001b[0mself\u001b[0m\u001b[0;34m.\u001b[0m\u001b[0mdata\u001b[0m\u001b[0;34m)\u001b[0m\u001b[0;34m\u001b[0m\u001b[0;34m\u001b[0m\u001b[0m\n\u001b[0m\u001b[1;32m    756\u001b[0m         \u001b[0mself\u001b[0m\u001b[0;34m.\u001b[0m\u001b[0mclose\u001b[0m\u001b[0;34m(\u001b[0m\u001b[0;34m)\u001b[0m\u001b[0;34m\u001b[0m\u001b[0;34m\u001b[0m\u001b[0m\n\u001b[1;32m    757\u001b[0m         \u001b[0;32mreturn\u001b[0m \u001b[0mobj\u001b[0m\u001b[0;34m\u001b[0m\u001b[0;34m\u001b[0m\u001b[0m\n",
      "\u001b[0;32m/home/alex-laptop/.local/lib/python3.6/site-packages/pandas/io/json/_json.py\u001b[0m in \u001b[0;36m_get_object_parser\u001b[0;34m(self, json)\u001b[0m\n\u001b[1;32m    775\u001b[0m         \u001b[0mobj\u001b[0m \u001b[0;34m=\u001b[0m \u001b[0;32mNone\u001b[0m\u001b[0;34m\u001b[0m\u001b[0;34m\u001b[0m\u001b[0m\n\u001b[1;32m    776\u001b[0m         \u001b[0;32mif\u001b[0m \u001b[0mtyp\u001b[0m \u001b[0;34m==\u001b[0m \u001b[0;34m\"frame\"\u001b[0m\u001b[0;34m:\u001b[0m\u001b[0;34m\u001b[0m\u001b[0;34m\u001b[0m\u001b[0m\n\u001b[0;32m--> 777\u001b[0;31m             \u001b[0mobj\u001b[0m \u001b[0;34m=\u001b[0m \u001b[0mFrameParser\u001b[0m\u001b[0;34m(\u001b[0m\u001b[0mjson\u001b[0m\u001b[0;34m,\u001b[0m \u001b[0;34m**\u001b[0m\u001b[0mkwargs\u001b[0m\u001b[0;34m)\u001b[0m\u001b[0;34m.\u001b[0m\u001b[0mparse\u001b[0m\u001b[0;34m(\u001b[0m\u001b[0;34m)\u001b[0m\u001b[0;34m\u001b[0m\u001b[0;34m\u001b[0m\u001b[0m\n\u001b[0m\u001b[1;32m    778\u001b[0m \u001b[0;34m\u001b[0m\u001b[0m\n\u001b[1;32m    779\u001b[0m         \u001b[0;32mif\u001b[0m \u001b[0mtyp\u001b[0m \u001b[0;34m==\u001b[0m \u001b[0;34m\"series\"\u001b[0m \u001b[0;32mor\u001b[0m \u001b[0mobj\u001b[0m \u001b[0;32mis\u001b[0m \u001b[0;32mNone\u001b[0m\u001b[0;34m:\u001b[0m\u001b[0;34m\u001b[0m\u001b[0;34m\u001b[0m\u001b[0m\n",
      "\u001b[0;32m/home/alex-laptop/.local/lib/python3.6/site-packages/pandas/io/json/_json.py\u001b[0m in \u001b[0;36mparse\u001b[0;34m(self)\u001b[0m\n\u001b[1;32m    884\u001b[0m \u001b[0;34m\u001b[0m\u001b[0m\n\u001b[1;32m    885\u001b[0m         \u001b[0;32melse\u001b[0m\u001b[0;34m:\u001b[0m\u001b[0;34m\u001b[0m\u001b[0;34m\u001b[0m\u001b[0m\n\u001b[0;32m--> 886\u001b[0;31m             \u001b[0mself\u001b[0m\u001b[0;34m.\u001b[0m\u001b[0m_parse_no_numpy\u001b[0m\u001b[0;34m(\u001b[0m\u001b[0;34m)\u001b[0m\u001b[0;34m\u001b[0m\u001b[0;34m\u001b[0m\u001b[0m\n\u001b[0m\u001b[1;32m    887\u001b[0m \u001b[0;34m\u001b[0m\u001b[0m\n\u001b[1;32m    888\u001b[0m         \u001b[0;32mif\u001b[0m \u001b[0mself\u001b[0m\u001b[0;34m.\u001b[0m\u001b[0mobj\u001b[0m \u001b[0;32mis\u001b[0m \u001b[0;32mNone\u001b[0m\u001b[0;34m:\u001b[0m\u001b[0;34m\u001b[0m\u001b[0;34m\u001b[0m\u001b[0m\n",
      "\u001b[0;32m/home/alex-laptop/.local/lib/python3.6/site-packages/pandas/io/json/_json.py\u001b[0m in \u001b[0;36m_parse_no_numpy\u001b[0;34m(self)\u001b[0m\n\u001b[1;32m   1117\u001b[0m         \u001b[0;32mif\u001b[0m \u001b[0morient\u001b[0m \u001b[0;34m==\u001b[0m \u001b[0;34m\"columns\"\u001b[0m\u001b[0;34m:\u001b[0m\u001b[0;34m\u001b[0m\u001b[0;34m\u001b[0m\u001b[0m\n\u001b[1;32m   1118\u001b[0m             self.obj = DataFrame(\n\u001b[0;32m-> 1119\u001b[0;31m                 \u001b[0mloads\u001b[0m\u001b[0;34m(\u001b[0m\u001b[0mjson\u001b[0m\u001b[0;34m,\u001b[0m \u001b[0mprecise_float\u001b[0m\u001b[0;34m=\u001b[0m\u001b[0mself\u001b[0m\u001b[0;34m.\u001b[0m\u001b[0mprecise_float\u001b[0m\u001b[0;34m)\u001b[0m\u001b[0;34m,\u001b[0m \u001b[0mdtype\u001b[0m\u001b[0;34m=\u001b[0m\u001b[0;32mNone\u001b[0m\u001b[0;34m\u001b[0m\u001b[0;34m\u001b[0m\u001b[0m\n\u001b[0m\u001b[1;32m   1120\u001b[0m             )\n\u001b[1;32m   1121\u001b[0m         \u001b[0;32melif\u001b[0m \u001b[0morient\u001b[0m \u001b[0;34m==\u001b[0m \u001b[0;34m\"split\"\u001b[0m\u001b[0;34m:\u001b[0m\u001b[0;34m\u001b[0m\u001b[0;34m\u001b[0m\u001b[0m\n",
      "\u001b[0;31mValueError\u001b[0m: Unexpected character found when decoding object value"
     ]
    }
   ],
   "source": [
    "#df = pd.read_json('TTNresponse.json')\n",
    "df = pd.read_json(theJSON)\n",
    "\n",
    "# solution from https://stackoverflow.com/questions/45325208/python-json-normalize-a-pandas-series-gives-typeerror\n",
    "#normalized_df = pd.concat([pd.DataFrame(pd.json_normalize(x)) for x in df['data']],ignore_index=True)"
   ]
  },
  {
   "cell_type": "code",
   "execution_count": 7,
   "metadata": {},
   "outputs": [
    {
     "ename": "KeyError",
     "evalue": "'main'",
     "output_type": "error",
     "traceback": [
      "\u001b[0;31m---------------------------------------------------------------------------\u001b[0m",
      "\u001b[0;31mKeyError\u001b[0m                                  Traceback (most recent call last)",
      "\u001b[0;32m<ipython-input-7-813b218cd39b>\u001b[0m in \u001b[0;36m<module>\u001b[0;34m()\u001b[0m\n\u001b[1;32m      2\u001b[0m \u001b[0;31m# store the value of \"main\"\u001b[0m\u001b[0;34m\u001b[0m\u001b[0;34m\u001b[0m\u001b[0;34m\u001b[0m\u001b[0m\n\u001b[1;32m      3\u001b[0m \u001b[0;31m# key in variable y\u001b[0m\u001b[0;34m\u001b[0m\u001b[0;34m\u001b[0m\u001b[0;34m\u001b[0m\u001b[0m\n\u001b[0;32m----> 4\u001b[0;31m \u001b[0my\u001b[0m \u001b[0;34m=\u001b[0m \u001b[0mx\u001b[0m\u001b[0;34m[\u001b[0m\u001b[0;34m\"main\"\u001b[0m\u001b[0;34m]\u001b[0m\u001b[0;34m\u001b[0m\u001b[0;34m\u001b[0m\u001b[0m\n\u001b[0m\u001b[1;32m      5\u001b[0m \u001b[0;34m\u001b[0m\u001b[0m\n\u001b[1;32m      6\u001b[0m \u001b[0;31m# store the value corresponding\u001b[0m\u001b[0;34m\u001b[0m\u001b[0;34m\u001b[0m\u001b[0;34m\u001b[0m\u001b[0m\n",
      "\u001b[0;31mKeyError\u001b[0m: 'main'"
     ]
    }
   ],
   "source": [
    "\n",
    "# store the value of \"main\"\n",
    "# key in variable y\n",
    "y = x[\"main\"]\n",
    "\n",
    "# store the value corresponding\n",
    "# to the \"temp\" key of y\n",
    "current_temperature = y[\"temp\"]\n",
    "\n",
    "# store the value corresponding\n",
    "# to the \"pressure\" key of y\n",
    "current_pressure = y[\"pressure\"]\n",
    "\n",
    "# store the value corresponding\n",
    "# to the \"humidity\" key of y\n",
    "current_humidity = y[\"humidity\"]\n",
    "\n",
    "# store the value of \"weather\"\n",
    "# key in variable z\n",
    "z = x[\"weather\"]\n",
    "\n",
    "# store the value corresponding\n",
    "# to the \"description\" key at\n",
    "# the 0th index of z\n",
    "weather_description = z[0][\"description\"]\n",
    "\n",
    "# print following values\n",
    "print(\" Temperature (in °C) = \" +\n",
    "                str(current_temperature-275.15) +\n",
    "      \"\\n atmospheric pressure (in hPa unit) = \" +\n",
    "                str(current_pressure) +\n",
    "      \"\\n humidity (in percentage) = \" +\n",
    "                str(current_humidity) +\n",
    "      \"\\n description = \" +\n",
    "                str(weather_description))\n",
    " "
   ]
  }
 ],
 "metadata": {
  "kernelspec": {
   "display_name": "Python 3",
   "language": "python",
   "name": "python3"
  },
  "language_info": {
   "codemirror_mode": {
    "name": "ipython",
    "version": 3
   },
   "file_extension": ".py",
   "mimetype": "text/x-python",
   "name": "python",
   "nbconvert_exporter": "python",
   "pygments_lexer": "ipython3",
   "version": "3.6.9"
  }
 },
 "nbformat": 4,
 "nbformat_minor": 2
}
